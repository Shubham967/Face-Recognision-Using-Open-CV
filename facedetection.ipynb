{
 "cells": [
  {
   "cell_type": "code",
   "execution_count": 5,
   "metadata": {},
   "outputs": [],
   "source": [
    "import cv2\n",
    "import numpy as np\n",
    "import os"
   ]
  },
  {
   "cell_type": "code",
   "execution_count": 2,
   "metadata": {},
   "outputs": [],
   "source": [
    "cap=cv2.VideoCapture(0)\n",
    "face_cascade=cv2.CascadeClassifier('haarcascade_frontalface_alt.xml')\n",
    "while True:\n",
    "    ret,frame=cap.read()\n",
    "    if(ret==False):\n",
    "        continue\n",
    "    faces=face_cascade.detectMultiScale(frame,1.3,5)\n",
    "  \n",
    "    for x,y,w,h in faces:\n",
    "        cv2.rectangle(frame,(x,y),(x+w,y+h),(255,0,0),2)\n",
    "    cv2.imshow(\"video frame\",frame)\n",
    "    key_pressed=cv2.waitKey(1) & 0xFF\n",
    "    if key_pressed==ord('q'):\n",
    "        break\n",
    "cap.release()\n",
    "cv2.destroyAllWindows()"
   ]
  },
  {
   "cell_type": "code",
   "execution_count": 8,
   "metadata": {},
   "outputs": [
    {
     "name": "stdout",
     "output_type": "stream",
     "text": [
      "ayush\n"
     ]
    }
   ],
   "source": [
    "cap=cv2.VideoCapture(0)\n",
    "face_cascade=cv2.CascadeClassifier('haarcascade_frontalface_alt.xml')\n",
    "skip=0\n",
    "face_data=[]\n",
    "dataset_path='./cvdata/'\n",
    "filename=input()\n",
    "while True:\n",
    "    ret,frame=cap.read()\n",
    "    if(ret==False):\n",
    "        continue\n",
    "    faces=face_cascade.detectMultiScale(frame,1.3,5)\n",
    "    faces=sorted(faces,key=lambda f:f[2]*f[3])\n",
    "    for face in faces[-1:]:\n",
    "        x,y,w,h=face\n",
    "        cv2.rectangle(frame,(x,y),(x+w,y+h),(0,255,255),2)\n",
    "        offset=10\n",
    "        face_section=frame[y-offset:y+h+offset,x-offset:x+w+offset]\n",
    "        face_section=cv2.resize(face_section,(100,100))\n",
    "        skip+=1\n",
    "        if(skip%10==0):\n",
    "            face_data.append(face_section)\n",
    "            #print(len(face_data))\n",
    "            \n",
    "    cv2.imshow(\"video frame\",frame)\n",
    "    key_pressed=cv2.waitKey(1) & 0xFF\n",
    "    if key_pressed==ord('q'):\n",
    "        break\n",
    "\n",
    "face_data=np.asarray(face_data)\n",
    "#print(face_data.shape)\n",
    "face_data=face_data.reshape((face_data.shape[0],-1))\n",
    "np.save(dataset_path+filename+'.npy',face_data)\n",
    "cap.release()\n",
    "cv2.destroyAllWindows()\n",
    "       \n",
    "    \n",
    "    "
   ]
  },
  {
   "cell_type": "code",
   "execution_count": 9,
   "metadata": {},
   "outputs": [
    {
     "name": "stdout",
     "output_type": "stream",
     "text": [
      "[[ 57.  60.  48. ...  53.  52.   0.]\n",
      " [ 57.  58.  53. ...  55.  58.   0.]\n",
      " [ 99.  91.  79. ... 168. 161.   0.]\n",
      " ...\n",
      " [165. 166. 162. ... 142. 141.   2.]\n",
      " [135. 138. 127. ... 145. 146.   2.]\n",
      " [ 73.  74.  67. ... 145. 144.   2.]]\n",
      "(27, 30001)\n"
     ]
    }
   ],
   "source": [
    "def distance(x1,x2):\n",
    "    return np.sqrt(sum((x1-x2)**2))\n",
    "def knn(train,test,k=5):\n",
    "    dist=[]\n",
    "    for i in range(train.shape[0]):\n",
    "        ix=train[i,:-1]\n",
    "        iy=train[i,-1]\n",
    "        d=distance(test,ix)\n",
    "        dist.append([d,iy])\n",
    "    dk=sorted(dist)\n",
    "    dk=dk[:k]\n",
    "    labels=np.array(dk)[:,-1]\n",
    "    output=np.unique(labels,return_counts=True)\n",
    "    index=np.argmax(output[1])\n",
    "    return output[0][index]\n",
    "cap=cv2.VideoCapture(0)\n",
    "face_cascade=cv2.CascadeClassifier('haarcascade_frontalface_alt.xml')\n",
    "skip=0\n",
    "dataset_path='./cvdata/'\n",
    "face_data=[]\n",
    "labels=[]\n",
    "class_id=0 #labels for the given file\n",
    "names={}  #mapping between id and names\n",
    "for fx in os.listdir(dataset_path):\n",
    "    if fx.endswith('.npy'):\n",
    "        names[class_id]=fx[:-4]\n",
    "        data_items=np.load(dataset_path+fx)\n",
    "        #print(data_items)\n",
    "        #print(data_items.shape)\n",
    "        face_data.append(data_items)\n",
    "        #print(face_data)\n",
    "        #print(face_data.shape)\n",
    "        target=class_id*np.ones((data_items.shape[0]))\n",
    "        class_id+=1\n",
    "        labels.append(target)\n",
    "face_dataset=np.concatenate(face_data,axis=0)\n",
    "face_labels=np.concatenate(labels,axis=0).reshape((-1,1))\n",
    "#print(face_dataset.shape)\n",
    "#print(face_dataset)\n",
    "#print(face_labels.shape)\n",
    "#print(face_labels)\n",
    "trainset=np.concatenate((face_dataset,face_labels),axis=1)\n",
    "print(trainset)\n",
    "print(trainset.shape)\n",
    "while True:\n",
    "    ret,frame=cap.read()\n",
    "    if(ret == False):\n",
    "        continue\n",
    "    faces=face_cascade.detectMultiScale(frame,1.3,5)\n",
    "    for face in faces:\n",
    "        x,y,w,h=face\n",
    "        offset=10\n",
    "        face_section=frame[y-offset:y+h+offset,x-offset:x+w+offset]\n",
    "        face_section=cv2.resize(face_section,(100,100))\n",
    "        out=knn(trainset,face_section.flatten())\n",
    "        pred_name=names[int(out)]\n",
    "        cv2.putText(frame,pred_name,(x,y-10),cv2.FONT_HERSHEY_SIMPLEX,1,(255,0,0),2,cv2.LINE_AA)\n",
    "        cv2.rectangle(frame,(x,y),(x+w,y+h),(0,255,255),2)\n",
    "    cv2.imshow(\"Faces\",frame)\n",
    "    key_pressed=cv2.waitKey(1) & 0xFF\n",
    "    if key_pressed==ord('q'):\n",
    "        break\n",
    "cap.release()\n",
    "cv2.destroyAllWindows()\n",
    "    \n",
    "        \n",
    "        \n",
    "    \n"
   ]
  },
  {
   "cell_type": "code",
   "execution_count": null,
   "metadata": {},
   "outputs": [],
   "source": []
  }
 ],
 "metadata": {
  "kernelspec": {
   "display_name": "Python 3",
   "language": "python",
   "name": "python3"
  },
  "language_info": {
   "codemirror_mode": {
    "name": "ipython",
    "version": 3
   },
   "file_extension": ".py",
   "mimetype": "text/x-python",
   "name": "python",
   "nbconvert_exporter": "python",
   "pygments_lexer": "ipython3",
   "version": "3.8.2"
  }
 },
 "nbformat": 4,
 "nbformat_minor": 2
}
